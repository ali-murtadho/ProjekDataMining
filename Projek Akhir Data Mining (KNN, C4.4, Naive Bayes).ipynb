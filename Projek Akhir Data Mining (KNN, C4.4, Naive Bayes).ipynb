{
 "cells": [
  {
   "cell_type": "markdown",
   "id": "fb00678d",
   "metadata": {},
   "source": [
    "# Perbandingan Klasifikasi Data Mutu Padi Organik dengan Metode K-Neirest Neighbors, Decision Tree C4.5, dan Naive Bayes"
   ]
  },
  {
   "cell_type": "markdown",
   "id": "1ace5528",
   "metadata": {},
   "source": [
    "ditujukan untuk memenuhi proyek akhir data mining \n",
    "yang di susun oleh :\n",
    "1. Zaidan Nabil Diwangkara (H1D020034)\n",
    "2. Nabila Eka Maharani (H1D020038)\n",
    "3. Ali Murtadho (H1D020054)"
   ]
  },
  {
   "cell_type": "code",
   "execution_count": 1,
   "id": "6df1e282",
   "metadata": {},
   "outputs": [],
   "source": [
    "# Proses pengimporan library Machine Learning\n",
    "import pandas as pd \n",
    "import numpy as np "
   ]
  },
  {
   "cell_type": "code",
   "execution_count": 2,
   "id": "56c9293f",
   "metadata": {},
   "outputs": [],
   "source": [
    "df = pd.read_excel('Data Mutu Padi Organik.xls')"
   ]
  },
  {
   "cell_type": "markdown",
   "id": "5815fc96",
   "metadata": {},
   "source": [
    "## Proses Preprocessing Data"
   ]
  },
  {
   "cell_type": "markdown",
   "id": "93ac6864",
   "metadata": {},
   "source": [
    "pada bagian preprocessing data ini terdapat 3 sesi :\n",
    "1. Seleksi Data\n",
    "2. Pembersihan Data\n",
    "3. Transformasi Data"
   ]
  },
  {
   "cell_type": "code",
   "execution_count": 3,
   "id": "44e61e77",
   "metadata": {},
   "outputs": [
    {
     "data": {
      "text/html": [
       "<div>\n",
       "<style scoped>\n",
       "    .dataframe tbody tr th:only-of-type {\n",
       "        vertical-align: middle;\n",
       "    }\n",
       "\n",
       "    .dataframe tbody tr th {\n",
       "        vertical-align: top;\n",
       "    }\n",
       "\n",
       "    .dataframe thead th {\n",
       "        text-align: right;\n",
       "    }\n",
       "</style>\n",
       "<table border=\"1\" class=\"dataframe\">\n",
       "  <thead>\n",
       "    <tr style=\"text-align: right;\">\n",
       "      <th></th>\n",
       "      <th>Variates</th>\n",
       "      <th>P.</th>\n",
       "      <th>B.</th>\n",
       "      <th>Warna</th>\n",
       "      <th>rasa</th>\n",
       "      <th>Musim</th>\n",
       "      <th>Penyakit</th>\n",
       "      <th>PH</th>\n",
       "      <th>Grade Mutu</th>\n",
       "    </tr>\n",
       "  </thead>\n",
       "  <tbody>\n",
       "    <tr>\n",
       "      <th>1</th>\n",
       "      <td>panda wangi</td>\n",
       "      <td>6.3</td>\n",
       "      <td>1.2</td>\n",
       "      <td>putih</td>\n",
       "      <td>sangat pulen</td>\n",
       "      <td>Hujan</td>\n",
       "      <td>Burung</td>\n",
       "      <td>2.0</td>\n",
       "      <td>Grade D</td>\n",
       "    </tr>\n",
       "    <tr>\n",
       "      <th>2</th>\n",
       "      <td>ciheran</td>\n",
       "      <td>7.2</td>\n",
       "      <td>2.3</td>\n",
       "      <td>putih</td>\n",
       "      <td>pulen</td>\n",
       "      <td>Hujan</td>\n",
       "      <td>penggerek batang</td>\n",
       "      <td>2.0</td>\n",
       "      <td>Grade C</td>\n",
       "    </tr>\n",
       "    <tr>\n",
       "      <th>3</th>\n",
       "      <td>mi kongga</td>\n",
       "      <td>6.1</td>\n",
       "      <td>3.3</td>\n",
       "      <td>putih</td>\n",
       "      <td>sangat pulen</td>\n",
       "      <td>Hujan</td>\n",
       "      <td>wereng coklat</td>\n",
       "      <td>2.0</td>\n",
       "      <td>Grade D</td>\n",
       "    </tr>\n",
       "    <tr>\n",
       "      <th>4</th>\n",
       "      <td>IR 64</td>\n",
       "      <td>6.1</td>\n",
       "      <td>4.2</td>\n",
       "      <td>putih</td>\n",
       "      <td>pulen</td>\n",
       "      <td>Hujan</td>\n",
       "      <td>wereng hijau</td>\n",
       "      <td>2.0</td>\n",
       "      <td>Grade B</td>\n",
       "    </tr>\n",
       "    <tr>\n",
       "      <th>5</th>\n",
       "      <td>Beras Merah</td>\n",
       "      <td>7.3</td>\n",
       "      <td>5.1</td>\n",
       "      <td>merah</td>\n",
       "      <td>sangat pulen</td>\n",
       "      <td>Hujan</td>\n",
       "      <td>tikus</td>\n",
       "      <td>2.0</td>\n",
       "      <td>Grade C</td>\n",
       "    </tr>\n",
       "  </tbody>\n",
       "</table>\n",
       "</div>"
      ],
      "text/plain": [
       "      Variates   P.   B.  Warna          rasa  Musim          Penyakit   PH  \\\n",
       "1  panda wangi  6.3  1.2  putih  sangat pulen  Hujan            Burung  2.0   \n",
       "2      ciheran  7.2  2.3  putih         pulen  Hujan  penggerek batang  2.0   \n",
       "3    mi kongga  6.1  3.3  putih  sangat pulen  Hujan     wereng coklat  2.0   \n",
       "4        IR 64  6.1  4.2  putih         pulen  Hujan      wereng hijau  2.0   \n",
       "5  Beras Merah  7.3  5.1  merah  sangat pulen  Hujan             tikus  2.0   \n",
       "\n",
       "  Grade Mutu  \n",
       "1    Grade D  \n",
       "2    Grade C  \n",
       "3    Grade D  \n",
       "4    Grade B  \n",
       "5    Grade C  "
      ]
     },
     "execution_count": 3,
     "metadata": {},
     "output_type": "execute_result"
    }
   ],
   "source": [
    "df = pd.read_excel('Data Mutu Padi Organik.xls', skiprows=2) #Skiprows digunakan untuk mengskip naik ke 2 baris atas yang kososng\n",
    "df = df.drop(0) #Pembuangan data yang bernilai kosong\n",
    "\n",
    "#Penghapusan variabel yang tidak diperlukan untuk klasifikasi, yaitu No dan teknik\n",
    "df.drop('No.', axis=1, inplace=True) \n",
    "df.drop('teknik', axis=1, inplace=True)\n",
    "df.head()"
   ]
  },
  {
   "cell_type": "code",
   "execution_count": 4,
   "id": "eec13062",
   "metadata": {},
   "outputs": [
    {
     "data": {
      "text/plain": [
       "Grade C    2392\n",
       "Grade B    1609\n",
       "Grade D     869\n",
       "Grade A      82\n",
       "Name: Grade Mutu, dtype: int64"
      ]
     },
     "execution_count": 4,
     "metadata": {},
     "output_type": "execute_result"
    }
   ],
   "source": [
    "#Proses pengecekan jumlah data sekaligus menyeleksi data yang akan dilabelkan dan ditargetkan\n",
    "df['Variates'].value_counts()\n",
    "df['Warna'].value_counts()\n",
    "df['rasa'].value_counts()\n",
    "df['Musim'].value_counts()\n",
    "df['Penyakit'].value_counts()\n",
    "df['Grade Mutu'].value_counts()"
   ]
  },
  {
   "cell_type": "code",
   "execution_count": 5,
   "id": "12a0157d",
   "metadata": {},
   "outputs": [
    {
     "data": {
      "text/html": [
       "<div>\n",
       "<style scoped>\n",
       "    .dataframe tbody tr th:only-of-type {\n",
       "        vertical-align: middle;\n",
       "    }\n",
       "\n",
       "    .dataframe tbody tr th {\n",
       "        vertical-align: top;\n",
       "    }\n",
       "\n",
       "    .dataframe thead th {\n",
       "        text-align: right;\n",
       "    }\n",
       "</style>\n",
       "<table border=\"1\" class=\"dataframe\">\n",
       "  <thead>\n",
       "    <tr style=\"text-align: right;\">\n",
       "      <th></th>\n",
       "      <th>Variates</th>\n",
       "      <th>P.</th>\n",
       "      <th>B.</th>\n",
       "      <th>Warna</th>\n",
       "      <th>rasa</th>\n",
       "      <th>Musim</th>\n",
       "      <th>Penyakit</th>\n",
       "      <th>PH</th>\n",
       "      <th>Grade Mutu</th>\n",
       "    </tr>\n",
       "  </thead>\n",
       "  <tbody>\n",
       "    <tr>\n",
       "      <th>1</th>\n",
       "      <td>5</td>\n",
       "      <td>6.3</td>\n",
       "      <td>1.2</td>\n",
       "      <td>3</td>\n",
       "      <td>1</td>\n",
       "      <td>0</td>\n",
       "      <td>0</td>\n",
       "      <td>2.0</td>\n",
       "      <td>3</td>\n",
       "    </tr>\n",
       "    <tr>\n",
       "      <th>2</th>\n",
       "      <td>3</td>\n",
       "      <td>7.2</td>\n",
       "      <td>2.3</td>\n",
       "      <td>3</td>\n",
       "      <td>0</td>\n",
       "      <td>0</td>\n",
       "      <td>1</td>\n",
       "      <td>2.0</td>\n",
       "      <td>2</td>\n",
       "    </tr>\n",
       "    <tr>\n",
       "      <th>3</th>\n",
       "      <td>4</td>\n",
       "      <td>6.1</td>\n",
       "      <td>3.3</td>\n",
       "      <td>3</td>\n",
       "      <td>1</td>\n",
       "      <td>0</td>\n",
       "      <td>3</td>\n",
       "      <td>2.0</td>\n",
       "      <td>3</td>\n",
       "    </tr>\n",
       "    <tr>\n",
       "      <th>4</th>\n",
       "      <td>2</td>\n",
       "      <td>6.1</td>\n",
       "      <td>4.2</td>\n",
       "      <td>3</td>\n",
       "      <td>0</td>\n",
       "      <td>0</td>\n",
       "      <td>4</td>\n",
       "      <td>2.0</td>\n",
       "      <td>1</td>\n",
       "    </tr>\n",
       "    <tr>\n",
       "      <th>5</th>\n",
       "      <td>1</td>\n",
       "      <td>7.3</td>\n",
       "      <td>5.1</td>\n",
       "      <td>2</td>\n",
       "      <td>1</td>\n",
       "      <td>0</td>\n",
       "      <td>2</td>\n",
       "      <td>2.0</td>\n",
       "      <td>2</td>\n",
       "    </tr>\n",
       "  </tbody>\n",
       "</table>\n",
       "</div>"
      ],
      "text/plain": [
       "   Variates   P.   B.  Warna  rasa  Musim  Penyakit   PH  Grade Mutu\n",
       "1         5  6.3  1.2      3     1      0         0  2.0           3\n",
       "2         3  7.2  2.3      3     0      0         1  2.0           2\n",
       "3         4  6.1  3.3      3     1      0         3  2.0           3\n",
       "4         2  6.1  4.2      3     0      0         4  2.0           1\n",
       "5         1  7.3  5.1      2     1      0         2  2.0           2"
      ]
     },
     "execution_count": 5,
     "metadata": {},
     "output_type": "execute_result"
    }
   ],
   "source": [
    "#Proses Transformasi Data menggunakan Label Encoder dari library scikit learn\n",
    "from sklearn.preprocessing import LabelEncoder\n",
    "enc = LabelEncoder()\n",
    "df['Variates'] = enc.fit_transform(df['Variates'].values)\n",
    "df['Warna'] = enc.fit_transform(df['Warna'].values)\n",
    "df['rasa'] = enc.fit_transform(df['rasa'].values)\n",
    "df['Musim'] = enc.fit_transform(df['Musim'].values)\n",
    "df['Grade Mutu'] = enc.fit_transform(df['Grade Mutu'].values)\n",
    "df['Penyakit'] = enc.fit_transform(df['Penyakit'].values)\n",
    "df.head()"
   ]
  },
  {
   "cell_type": "code",
   "execution_count": 6,
   "id": "fd440c46",
   "metadata": {},
   "outputs": [
    {
     "name": "stdout",
     "output_type": "stream",
     "text": [
      "<class 'pandas.core.frame.DataFrame'>\n",
      "Int64Index: 4952 entries, 1 to 4952\n",
      "Data columns (total 9 columns):\n",
      " #   Column      Non-Null Count  Dtype  \n",
      "---  ------      --------------  -----  \n",
      " 0   Variates    4952 non-null   int32  \n",
      " 1   P.          4952 non-null   float64\n",
      " 2   B.          4952 non-null   float64\n",
      " 3   Warna       4952 non-null   int32  \n",
      " 4   rasa        4952 non-null   int32  \n",
      " 5   Musim       4952 non-null   int32  \n",
      " 6   Penyakit    4952 non-null   int32  \n",
      " 7   PH          4952 non-null   float64\n",
      " 8   Grade Mutu  4952 non-null   int32  \n",
      "dtypes: float64(3), int32(6)\n",
      "memory usage: 270.8 KB\n"
     ]
    }
   ],
   "source": [
    "df.info() #proses pengecekan tipe data yang baru ditransformasi "
   ]
  },
  {
   "cell_type": "code",
   "execution_count": 7,
   "id": "70f9e50c",
   "metadata": {},
   "outputs": [],
   "source": [
    "#Proses Penyeleksian data yang akan dijadikan label dan target label\n",
    "x = df.iloc[:,:8]\n",
    "y = df.iloc[:,-1]"
   ]
  },
  {
   "cell_type": "code",
   "execution_count": 8,
   "id": "d7afb3d5",
   "metadata": {},
   "outputs": [
    {
     "data": {
      "text/plain": [
       "array([[1.        , 0.16666667, 0.01851852, ..., 0.        , 0.        ,\n",
       "        0.        ],\n",
       "       [0.6       , 0.66666667, 0.22222222, ..., 0.        , 0.25      ,\n",
       "        0.        ],\n",
       "       [0.8       , 0.05555556, 0.40740741, ..., 0.        , 0.75      ,\n",
       "        0.        ],\n",
       "       ...,\n",
       "       [0.        , 0.77777778, 0.94444444, ..., 0.        , 0.5       ,\n",
       "        0.        ],\n",
       "       [1.        , 0.11111111, 0.01851852, ..., 1.        , 0.        ,\n",
       "        0.33333333],\n",
       "       [0.6       , 0.22222222, 0.22222222, ..., 1.        , 0.25      ,\n",
       "        0.33333333]])"
      ]
     },
     "execution_count": 8,
     "metadata": {},
     "output_type": "execute_result"
    }
   ],
   "source": [
    "#Proses Transformasi nilai variabel ke dalam skala dengan menggunakan min max scaler (range 0-1)\n",
    "from sklearn.preprocessing import MinMaxScaler\n",
    "scaler = MinMaxScaler()\n",
    "xscaled = scaler.fit_transform(x)\n",
    "xscaled"
   ]
  },
  {
   "cell_type": "code",
   "execution_count": 9,
   "id": "50de1930",
   "metadata": {},
   "outputs": [],
   "source": [
    "# Persiapan Proses Klasifikasi dengan persiapan data train dan data testing\n",
    "from sklearn.model_selection import train_test_split\n",
    "\n",
    "#MinMaxScaler\n",
    "xtrains, xtests, ytrains, ytests = train_test_split(xscaled, y, test_size = 0.9, random_state = 0)\n",
    "\n",
    "#StandardScaler\n",
    "xtrain, xtest, ytrain, ytest = train_test_split(x, y, test_size = 0.9, random_state = 0)\n"
   ]
  },
  {
   "cell_type": "code",
   "execution_count": 12,
   "id": "cc7e1f8f",
   "metadata": {},
   "outputs": [],
   "source": [
    "\n",
    "\n",
    "from sklearn.preprocessing import StandardScaler\n",
    "sc =StandardScaler()\n",
    "xtrainn = sc.fit_transform(xtrain)\n",
    "xtestt = sc.fit_transform(xtest)"
   ]
  },
  {
   "cell_type": "code",
   "execution_count": 13,
   "id": "112a431e",
   "metadata": {},
   "outputs": [
    {
     "name": "stdout",
     "output_type": "stream",
     "text": [
      "xtrain:  495\n",
      "xtest:  4457\n",
      "ytrain:  495\n",
      "ytest:  4457\n"
     ]
    }
   ],
   "source": [
    "#Menghitung banyaknya data train dan data testing\n",
    "print(\"xtrain: \", len(xtrains))\n",
    "print(\"xtest: \", len(xtests))\n",
    "print(\"ytrain: \", len(ytrains))\n",
    "print(\"ytest: \", len(ytests))"
   ]
  },
  {
   "cell_type": "code",
   "execution_count": 14,
   "id": "c997f1b5",
   "metadata": {},
   "outputs": [],
   "source": [
    "from sklearn.metrics import accuracy_score\n",
    "from sklearn.metrics import classification_report\n",
    "from sklearn.metrics import confusion_matrix\n",
    "from sklearn.metrics import precision_score\n",
    "from sklearn.metrics import recall_score\n",
    "from sklearn.metrics import f1_score"
   ]
  },
  {
   "cell_type": "markdown",
   "id": "ec074aae",
   "metadata": {},
   "source": [
    "## Klasifikasi K-Neirest Neighbors"
   ]
  },
  {
   "cell_type": "code",
   "execution_count": 15,
   "id": "8ae709f6",
   "metadata": {},
   "outputs": [],
   "source": [
    "#Min Max Scaler\n",
    "from sklearn.neighbors import KNeighborsClassifier\n",
    "KNN = KNeighborsClassifier(n_neighbors=3).fit(xtrains, ytrains)\n",
    "\n",
    "#StandardScaler\n",
    "from sklearn.neighbors import KNeighborsClassifier\n",
    "KNNSC = KNeighborsClassifier(n_neighbors=3).fit(xtrainn, ytrain)"
   ]
  },
  {
   "cell_type": "code",
   "execution_count": 16,
   "id": "cc848030",
   "metadata": {},
   "outputs": [
    {
     "name": "stdout",
     "output_type": "stream",
     "text": [
      "KLASIFIKASI REPORT KNN DENGAN MINMAXSCALER\n",
      "Confussion matrix\n",
      "[[  36   39    0    0]\n",
      " [  45 1238  139   28]\n",
      " [   0  123 1958   74]\n",
      " [   0   38   53  686]]\n",
      "Tingkat Akurasi Algoritma KNN\n",
      "Akurasi :               precision    recall  f1-score   support\n",
      "\n",
      "           0       0.44      0.48      0.46        75\n",
      "           1       0.86      0.85      0.86      1450\n",
      "           2       0.91      0.91      0.91      2155\n",
      "           3       0.87      0.88      0.88       777\n",
      "\n",
      "    accuracy                           0.88      4457\n",
      "   macro avg       0.77      0.78      0.78      4457\n",
      "weighted avg       0.88      0.88      0.88      4457\n",
      "\n",
      "Score:  0.8790666367511779\n",
      "Tingkat Akurasi 87 persen\n",
      "Precision:  0.7716546090207755\n",
      "Recall:  0.7813151682765251\n",
      "F1 Score:  0.7762991128990976\n",
      "\n",
      "\n",
      "========================================================================\n",
      "KLASIFIKASI REPORT KNN DENGAN STANDARD SCALER\n",
      "Confussion matrix\n",
      "[[  36   39    0    0]\n",
      " [  45 1238  139   28]\n",
      " [   0  123 1958   74]\n",
      " [   0   38   53  686]]\n",
      "Tingkat Akurasi Algoritma KNN\n",
      "Akurasi :               precision    recall  f1-score   support\n",
      "\n",
      "           0       0.44      0.43      0.43        75\n",
      "           1       0.84      0.82      0.83      1450\n",
      "           2       0.89      0.89      0.89      2155\n",
      "           3       0.83      0.86      0.85       777\n",
      "\n",
      "    accuracy                           0.86      4457\n",
      "   macro avg       0.75      0.75      0.75      4457\n",
      "weighted avg       0.86      0.86      0.86      4457\n",
      "\n",
      "Score:  0.8559569216962082\n",
      "Tingkat Akurasi 85 persen\n",
      "Precision:  0.7500584206811123\n",
      "Recall:  0.7504245878923853\n",
      "F1 Score:  0.7501529434410552\n"
     ]
    }
   ],
   "source": [
    "#Klasifikasi Report data\n",
    "print(\"KLASIFIKASI REPORT KNN DENGAN MINMAXSCALER\")\n",
    "ypred = KNN.predict(xtests)\n",
    "cm = confusion_matrix(ytests, ypred)\n",
    "KNNscore = KNN.score(xtests, ytests)\n",
    "prec = precision_score(ytests, ypred, average='macro')\n",
    "rec = recall_score(ytests, ypred, average='macro')\n",
    "fs = f1_score(ytests, ypred, average='macro')\n",
    "akurasi = classification_report(ytests, ypred)\n",
    "print(\"Confussion matrix\")\n",
    "print(cm)\n",
    "print(\"Tingkat Akurasi Algoritma KNN\")\n",
    "print(\"Akurasi :\", akurasi)\n",
    "akurasi = accuracy_score(ytests, ypred)\n",
    "print(\"Score: \", KNNscore)\n",
    "print(f\"Tingkat Akurasi %d persen\" %(akurasi*100))\n",
    "print(\"Precision: \", prec)\n",
    "print(\"Recall: \", rec)\n",
    "print(\"F1 Score: \", fs)\n",
    "print(\"\\n\")\n",
    "print(\"========================================================================\")\n",
    "print(\"KLASIFIKASI REPORT KNN DENGAN STANDARD SCALER\")\n",
    "ypred1 = KNNSC.predict(xtestt)\n",
    "cm1 = confusion_matrix(ytest, ypred1)\n",
    "KNNscore = KNNSC.score(xtestt, ytest)\n",
    "prec1 = precision_score(ytest, ypred1, average='macro')\n",
    "rec1 = recall_score(ytest, ypred1, average='macro')\n",
    "fs1 = f1_score(ytest, ypred1, average='macro')\n",
    "akurasi2 = classification_report(ytest, ypred1)\n",
    "print(\"Confussion matrix\")\n",
    "print(cm)\n",
    "print(\"Tingkat Akurasi Algoritma KNN\")\n",
    "print(\"Akurasi :\", akurasi2)\n",
    "akurasi2 = accuracy_score(ytest, ypred1)\n",
    "print(\"Score: \", KNNscore)\n",
    "print(f\"Tingkat Akurasi %d persen\" %(akurasi2*100))\n",
    "print(\"Precision: \", prec1)\n",
    "print(\"Recall: \", rec1)\n",
    "print(\"F1 Score: \", fs1)"
   ]
  },
  {
   "cell_type": "code",
   "execution_count": 24,
   "id": "b4dff428",
   "metadata": {},
   "outputs": [
    {
     "name": "stdout",
     "output_type": "stream",
     "text": [
      "[0.9620821180166031, 0.9115997307606013, 0.8790666367511779, 0.8292573479919229, 0.8153466457258245, 0.8142248148979134, 0.8086156607583577, 0.7866277765312991, 0.7471393313888266]\n"
     ]
    },
    {
     "data": {
      "image/png": "[encoded data removed]",
      "text/plain": [
       "<Figure size 432x288 with 1 Axes>"
      ]
     },
     "metadata": {
      "needs_background": "light"
     },
     "output_type": "display_data"
    }
   ],
   "source": [
    "#Proses penentuan K terbaik\n",
    "k = np.arange(1,10)\n",
    "bestk = []\n",
    "for i in k:\n",
    "    KNN = KNeighborsClassifier(n_neighbors=i).fit(xtrains, ytrains)\n",
    "    KNNscore = KNN.score(xtests, ytests)\n",
    "    bestk.append(KNNscore)\n",
    "print(bestk)\n",
    "\n",
    "import matplotlib.pyplot as plt\n",
    "plt.plot(k, bestk)\n",
    "plt.show()"
   ]
  },
  {
   "cell_type": "markdown",
   "id": "267a09d7",
   "metadata": {},
   "source": [
    "## Klasifikasi Decision Tree C4.5"
   ]
  },
  {
   "cell_type": "code",
   "execution_count": null,
   "id": "de1d3df8",
   "metadata": {},
   "outputs": [],
   "source": []
  },
  {
   "cell_type": "code",
   "execution_count": 17,
   "id": "6f04d560",
   "metadata": {},
   "outputs": [],
   "source": [
    "from sklearn.tree import DecisionTreeClassifier\n",
    "\n",
    "#Min Max Scaler\n",
    "dtc = DecisionTreeClassifier().fit(xtrains, ytrains)\n",
    "\n",
    "\n",
    "#StandardScaler\n",
    "dtcsc = DecisionTreeClassifier().fit(xtrainn, ytrain)"
   ]
  },
  {
   "cell_type": "code",
   "execution_count": 18,
   "id": "c60da786",
   "metadata": {},
   "outputs": [
    {
     "name": "stdout",
     "output_type": "stream",
     "text": [
      "KLASIFIKASI REPORT DATA C4.5 DENGAN MINMAXSCALER\n",
      "Confussion matrix = cm\n",
      "[[  75    0    0    0]\n",
      " [   0 1408   42    0]\n",
      " [   0   16 2122   17]\n",
      " [   0    1    0  776]]\n",
      "\n",
      "\n",
      "Tingkat Akurasi Algoritma C4.5\n",
      "Akurasi :               precision    recall  f1-score   support\n",
      "\n",
      "           0       1.00      1.00      1.00        75\n",
      "           1       0.99      0.97      0.98      1450\n",
      "           2       0.98      0.98      0.98      2155\n",
      "           3       0.98      1.00      0.99       777\n",
      "\n",
      "    accuracy                           0.98      4457\n",
      "   macro avg       0.99      0.99      0.99      4457\n",
      "weighted avg       0.98      0.98      0.98      4457\n",
      "\n",
      "Score:  0.9829481714157505\n",
      "Tingkat Akurasi 98 persen\n",
      "Precision:  0.9868060234628313\n",
      "Recall:  0.9886085641034037\n",
      "F1 Score:  0.9876620404748451\n",
      "========================================================================\n",
      "KLASIFIKASI REPORT DATA C4.5 DENGAN STANDARDSCALER\n",
      "Confussion matrix = cm\n",
      "[[  75    0    0    0]\n",
      " [   0 1412   38    0]\n",
      " [   0   20 2118   17]\n",
      " [   0    1    0  776]]\n",
      "\n",
      "\n",
      "Tingkat Akurasi Algoritma C4.5\n",
      "Akurasi :               precision    recall  f1-score   support\n",
      "\n",
      "           0       1.00      1.00      1.00        75\n",
      "           1       0.99      0.97      0.98      1450\n",
      "           2       0.98      0.98      0.98      2155\n",
      "           3       0.98      1.00      0.99       777\n",
      "\n",
      "    accuracy                           0.98      4457\n",
      "   macro avg       0.99      0.99      0.99      4457\n",
      "weighted avg       0.98      0.98      0.98      4457\n",
      "\n",
      "Score:  0.9829481714157505\n",
      "Tingkat Akurasi 98 persen\n",
      "Precision:  0.986570654611\n",
      "Recall:  0.9888341821528477\n",
      "F1 Score:  0.9876682206568566\n"
     ]
    }
   ],
   "source": [
    "print(\"KLASIFIKASI REPORT DATA C4.5 DENGAN MINMAXSCALER\")\n",
    "ypc = dtc.predict(xtests)\n",
    "cmm = confusion_matrix(ytests, ypc)\n",
    "ascore = dtc.score(xtests, ytests)\n",
    "akurasi = classification_report(ytests, ypc)\n",
    "precis = precision_score(ytests, ypc, average='macro')\n",
    "recal = recall_score(ytests, ypc, average='macro')\n",
    "fs1c = f1_score(ytests, ypc, average='macro')\n",
    "akurasi = classification_report(ytests, ypc)\n",
    "print(\"Confussion matrix = cm\")\n",
    "print(cmm)\n",
    "print(\"\\n\")\n",
    "print(\"Tingkat Akurasi Algoritma C4.5\")\n",
    "print(\"Akurasi :\", akurasi)\n",
    "akurasi = accuracy_score(ytests, ypc)\n",
    "print(\"Score: \", ascore)\n",
    "print(\"Tingkat Akurasi %d persen\" %(akurasi*100))\n",
    "print(\"Precision: \", precis)\n",
    "print(\"Recall: \", recal)\n",
    "print(\"F1 Score: \", fs1c)\n",
    "print(\"========================================================================\")\n",
    "print(\"KLASIFIKASI REPORT DATA C4.5 DENGAN STANDARDSCALER\")\n",
    "ypcsc = dtcsc.predict(xtestt)\n",
    "cmm1 = confusion_matrix(ytest, ypcsc)\n",
    "ascore1 = dtcsc.score(xtestt, ytest)\n",
    "akurasi1 = classification_report(ytest, ypcsc)\n",
    "precis1 = precision_score(ytest, ypcsc, average='macro')\n",
    "recal1 = recall_score(ytest, ypcsc, average='macro')\n",
    "fs1c1 = f1_score(ytest, ypcsc, average='macro')\n",
    "akurasi1 = classification_report(ytest, ypcsc)\n",
    "\n",
    "print(\"Confussion matrix = cm\")\n",
    "print(cmm1)\n",
    "print(\"\\n\")\n",
    "print(\"Tingkat Akurasi Algoritma C4.5\")\n",
    "print(\"Akurasi :\", akurasi1)\n",
    "akurasi1 = accuracy_score(ytest, ypcsc)\n",
    "print(\"Score: \", ascore1)\n",
    "print(\"Tingkat Akurasi %d persen\" %(akurasi1*100))\n",
    "print(\"Precision: \", precis1)\n",
    "print(\"Recall: \", recal1)\n",
    "print(\"F1 Score: \", fs1c1)"
   ]
  },
  {
   "cell_type": "markdown",
   "id": "cbaf573a",
   "metadata": {},
   "source": [
    "## Klasifikasi Naive Bayes"
   ]
  },
  {
   "cell_type": "code",
   "execution_count": 19,
   "id": "1d07148a",
   "metadata": {},
   "outputs": [],
   "source": [
    "#Min Max Scaler\n",
    "from sklearn.naive_bayes import GaussianNB\n",
    "nb = GaussianNB().fit(xtrains, ytrains)\n",
    "\n",
    "#StandardScaler\n",
    "from sklearn.naive_bayes import GaussianNB\n",
    "nb1 = GaussianNB().fit(xtrainn, ytrain)"
   ]
  },
  {
   "cell_type": "code",
   "execution_count": 20,
   "id": "371677e6",
   "metadata": {},
   "outputs": [
    {
     "name": "stdout",
     "output_type": "stream",
     "text": [
      "KLASIFIKASI REPORT DATA NAIVE BAYES DENGAN MINMAXSCALER \n",
      "Confusion Matrix\n",
      "[[  75    0    0    0]\n",
      " [ 116  539  165  630]\n",
      " [   0  115  855 1185]\n",
      " [   0    0    1  776]]\n",
      "\n",
      "\n",
      "Tingkat Akurasi Algoritma Naive Bayes\n",
      "Akurasi :               precision    recall  f1-score   support\n",
      "\n",
      "           0       0.39      1.00      0.56        75\n",
      "           1       0.82      0.37      0.51      1450\n",
      "           2       0.84      0.40      0.54      2155\n",
      "           3       0.30      1.00      0.46       777\n",
      "\n",
      "    accuracy                           0.50      4457\n",
      "   macro avg       0.59      0.69      0.52      4457\n",
      "weighted avg       0.73      0.50      0.52      4457\n",
      "\n",
      "Score:  0.5037020417321068\n",
      "Tingkat Akurasi 50 persen\n",
      "Precision:  0.5884354353499489\n",
      "Recall:  0.691797219195811\n",
      "F1 Score:  0.5188719720179136\n",
      "=================================================================\n",
      "KLASIFIKASI REPORT DATA NAIVE BAYES DENGAN STANDARDSCALER \n",
      "Confusion Matrix\n",
      "[[   0   75    0    0]\n",
      " [   0 1150  300    0]\n",
      " [   0  294 1861    0]\n",
      " [   0  105  672    0]]\n",
      "\n",
      "\n",
      "Tingkat Akurasi Algoritma Naive Bayes\n",
      "Akurasi :               precision    recall  f1-score   support\n",
      "\n",
      "           0       0.00      0.00      0.00        75\n",
      "           1       0.71      0.79      0.75      1450\n",
      "           2       0.66      0.86      0.75      2155\n",
      "           3       0.00      0.00      0.00       777\n",
      "\n",
      "    accuracy                           0.68      4457\n",
      "   macro avg       0.34      0.41      0.37      4457\n",
      "weighted avg       0.55      0.68      0.60      4457\n",
      "\n",
      "Score:  0.6755665245680952\n",
      "Tingkat Akurasi 67 persen\n",
      "Precision:  0.3412572226694882\n",
      "Recall:  0.41416913353068247\n",
      "F1 Score:  0.37360041457989746\n"
     ]
    },
    {
     "name": "stderr",
     "output_type": "stream",
     "text": [
      "C:\\Users\\HP\\anaconda3\\lib\\site-packages\\sklearn\\metrics\\_classification.py:1245: UndefinedMetricWarning: Precision is ill-defined and being set to 0.0 in labels with no predicted samples. Use `zero_division` parameter to control this behavior.\n",
      "  _warn_prf(average, modifier, msg_start, len(result))\n",
      "C:\\Users\\HP\\anaconda3\\lib\\site-packages\\sklearn\\metrics\\_classification.py:1245: UndefinedMetricWarning: Precision and F-score are ill-defined and being set to 0.0 in labels with no predicted samples. Use `zero_division` parameter to control this behavior.\n",
      "  _warn_prf(average, modifier, msg_start, len(result))\n",
      "C:\\Users\\HP\\anaconda3\\lib\\site-packages\\sklearn\\metrics\\_classification.py:1245: UndefinedMetricWarning: Precision and F-score are ill-defined and being set to 0.0 in labels with no predicted samples. Use `zero_division` parameter to control this behavior.\n",
      "  _warn_prf(average, modifier, msg_start, len(result))\n",
      "C:\\Users\\HP\\anaconda3\\lib\\site-packages\\sklearn\\metrics\\_classification.py:1245: UndefinedMetricWarning: Precision and F-score are ill-defined and being set to 0.0 in labels with no predicted samples. Use `zero_division` parameter to control this behavior.\n",
      "  _warn_prf(average, modifier, msg_start, len(result))\n"
     ]
    }
   ],
   "source": [
    "print(\"KLASIFIKASI REPORT DATA NAIVE BAYES DENGAN MINMAXSCALER \")\n",
    "ypnb = nb.predict(xtests)\n",
    "cmnb = confusion_matrix(ytests, ypnb)\n",
    "nbscore = nb.score(xtests, ytests)\n",
    "preci = precision_score(ytests, ypnb, average='macro')\n",
    "reca = recall_score(ytests, ypnb, average='macro')\n",
    "fs1 = f1_score(ytests, ypnb, average='macro')\n",
    "akurasi = classification_report(ytests, ypnb)\n",
    "print(\"Confusion Matrix\")\n",
    "print(cmnb)\n",
    "print(\"\\n\")\n",
    "print(\"Tingkat Akurasi Algoritma Naive Bayes\")\n",
    "print(\"Akurasi :\", akurasi)\n",
    "akurasi = accuracy_score(ytests, ypnb)\n",
    "print(\"Score: \", nbscore)\n",
    "print(f\"Tingkat Akurasi %d persen\" %(akurasi*100))\n",
    "print(\"Precision: \", preci)\n",
    "print(\"Recall: \", reca)\n",
    "print(\"F1 Score: \", fs1)\n",
    "print(\"=================================================================\")\n",
    "print(\"KLASIFIKASI REPORT DATA NAIVE BAYES DENGAN STANDARDSCALER \")\n",
    "ypnb1 = nb1.predict(xtestt)\n",
    "cmnb1 = confusion_matrix(ytest, ypnb1)\n",
    "nbscore1 = nb1.score(xtestt, ytest)\n",
    "preci1 = precision_score(ytest, ypnb1, average='macro')\n",
    "reca1 = recall_score(ytest, ypnb1, average='macro')\n",
    "fs11 = f1_score(ytest, ypnb1, average='macro')\n",
    "akurasi = classification_report(ytest, ypnb1)\n",
    "print(\"Confusion Matrix\")\n",
    "print(cmnb1)\n",
    "print(\"\\n\")\n",
    "print(\"Tingkat Akurasi Algoritma Naive Bayes\")\n",
    "print(\"Akurasi :\", akurasi)\n",
    "akurasi = accuracy_score(ytest, ypnb1)\n",
    "print(\"Score: \", nbscore1)\n",
    "print(f\"Tingkat Akurasi %d persen\" %(akurasi*100))\n",
    "print(\"Precision: \", preci1)\n",
    "print(\"Recall: \", reca1)\n",
    "print(\"F1 Score: \", fs11)"
   ]
  }
 ],
 "metadata": {
  "kernelspec": {
   "display_name": "Python 3",
   "language": "python",
   "name": "python3"
  },
  "language_info": {
   "codemirror_mode": {
    "name": "ipython",
    "version": 3
   },
   "file_extension": ".py",
   "mimetype": "text/x-python",
   "name": "python",
   "nbconvert_exporter": "python",
   "pygments_lexer": "ipython3",
   "version": "3.8.8"
  }
 },
 "nbformat": 4,
 "nbformat_minor": 5
}
